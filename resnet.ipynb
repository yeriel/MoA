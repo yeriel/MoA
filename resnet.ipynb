{
  "nbformat": 4,
  "nbformat_minor": 0,
  "metadata": {
    "colab": {
      "provenance": [],
      "collapsed_sections": []
    },
    "kernelspec": {
      "name": "python3",
      "display_name": "Python 3"
    },
    "language_info": {
      "name": "python"
    },
    "accelerator": "GPU"
  },
  "cells": [
    {
      "cell_type": "code",
      "execution_count": null,
      "metadata": {
        "id": "BVi1SsjyptVU"
      },
      "outputs": [],
      "source": [
        "#######################\n",
        "###  Global paths   ###\n",
        "#######################\n",
        "custom_module_path = f'/content/drive/MyDrive/MoA/utilites'\n",
        "dataset_path = f'/content/drive/MyDrive/MoA/dataset'\n",
        "\n",
        "#######################\n",
        "### Library imports ###\n",
        "#######################\n",
        "# standard library\n",
        "import os\n",
        "import sys\n",
        "import copy\n",
        "\n",
        "#custom tooling\n",
        "sys.path.append(custom_module_path)\n",
        "import resnet\n",
        "import preprocess"
      ]
    },
    {
      "cell_type": "code",
      "source": [
        "import tensorflow as tf\n",
        "\n",
        "# Configurations\n",
        "\n",
        "length = 877  # Length of each Segment\n",
        "model_name = 'ResNet18_2_output'  # DenseNet Models\n",
        "model_width = 64  # Width of the Initial Layer, subsequent layers start from here\n",
        "num_channel = 1  # Number of Input Channels in the Model\n",
        "problem_type = 'Classification'  # Classification or Regression\n",
        "output_nums = 206  # Number of Class for Classification Problems, always '1' for Regression Problems\n",
        "  \n",
        "opt = tf.keras.optimizers.Adam(learning_rate=1e-3, decay=1e-5)\n",
        "  \n",
        "Model = resnet.ResNet(length, num_channel, model_width, problem_type=problem_type, output_nums=output_nums, pooling='avg',dropout_rate=0.3).ResNet_18_LSTM()\n",
        "Model.compile(opt, loss='binary_crossentropy', metrics=['accuracy'])\n",
        "Model.summary()"
      ],
      "metadata": {
        "colab": {
          "base_uri": "https://localhost:8080/"
        },
        "id": "_3GOf_LOr-iE",
        "outputId": "c4a93c1b-1d4d-4aeb-d9d9-7e4c7ca2a2f7"
      },
      "execution_count": null,
      "outputs": [
        {
          "output_type": "stream",
          "name": "stdout",
          "text": [
            "Model: \"model_1\"\n",
            "__________________________________________________________________________________________________\n",
            " Layer (type)                   Output Shape         Param #     Connected to                     \n",
            "==================================================================================================\n",
            " input_2 (InputLayer)           [(None, 877, 1)]     0           []                               \n",
            "                                                                                                  \n",
            " conv1d_17 (Conv1D)             (None, 439, 64)      512         ['input_2[0][0]']                \n",
            "                                                                                                  \n",
            " batch_normalization_17 (BatchN  (None, 439, 64)     256         ['conv1d_17[0][0]']              \n",
            " ormalization)                                                                                    \n",
            "                                                                                                  \n",
            " activation_22 (Activation)     (None, 439, 64)      0           ['batch_normalization_17[0][0]'] \n",
            "                                                                                                  \n",
            " max_pooling1d_1 (MaxPooling1D)  (None, 219, 64)     0           ['activation_22[0][0]']          \n",
            "                                                                                                  \n",
            " conv1d_18 (Conv1D)             (None, 219, 64)      12352       ['max_pooling1d_1[0][0]']        \n",
            "                                                                                                  \n",
            " batch_normalization_18 (BatchN  (None, 219, 64)     256         ['conv1d_18[0][0]']              \n",
            " ormalization)                                                                                    \n",
            "                                                                                                  \n",
            " activation_23 (Activation)     (None, 219, 64)      0           ['batch_normalization_18[0][0]'] \n",
            "                                                                                                  \n",
            " conv1d_19 (Conv1D)             (None, 219, 64)      12352       ['activation_23[0][0]']          \n",
            "                                                                                                  \n",
            " batch_normalization_19 (BatchN  (None, 219, 64)     256         ['conv1d_19[0][0]']              \n",
            " ormalization)                                                                                    \n",
            "                                                                                                  \n",
            " activation_24 (Activation)     (None, 219, 64)      0           ['batch_normalization_19[0][0]'] \n",
            "                                                                                                  \n",
            " add_6 (Add)                    (None, 219, 64)      0           ['activation_24[0][0]',          \n",
            "                                                                  'max_pooling1d_1[0][0]']        \n",
            "                                                                                                  \n",
            " activation_25 (Activation)     (None, 219, 64)      0           ['add_6[0][0]']                  \n",
            "                                                                                                  \n",
            " conv1d_20 (Conv1D)             (None, 219, 64)      12352       ['activation_25[0][0]']          \n",
            "                                                                                                  \n",
            " batch_normalization_20 (BatchN  (None, 219, 64)     256         ['conv1d_20[0][0]']              \n",
            " ormalization)                                                                                    \n",
            "                                                                                                  \n",
            " activation_26 (Activation)     (None, 219, 64)      0           ['batch_normalization_20[0][0]'] \n",
            "                                                                                                  \n",
            " conv1d_21 (Conv1D)             (None, 219, 64)      12352       ['activation_26[0][0]']          \n",
            "                                                                                                  \n",
            " batch_normalization_21 (BatchN  (None, 219, 64)     256         ['conv1d_21[0][0]']              \n",
            " ormalization)                                                                                    \n",
            "                                                                                                  \n",
            " activation_27 (Activation)     (None, 219, 64)      0           ['batch_normalization_21[0][0]'] \n",
            "                                                                                                  \n",
            " add_7 (Add)                    (None, 219, 64)      0           ['activation_27[0][0]',          \n",
            "                                                                  'activation_25[0][0]']          \n",
            "                                                                                                  \n",
            " activation_28 (Activation)     (None, 219, 64)      0           ['add_7[0][0]']                  \n",
            "                                                                                                  \n",
            " conv1d_22 (Conv1D)             (None, 110, 128)     24704       ['activation_28[0][0]']          \n",
            "                                                                                                  \n",
            " batch_normalization_22 (BatchN  (None, 110, 128)    512         ['conv1d_22[0][0]']              \n",
            " ormalization)                                                                                    \n",
            "                                                                                                  \n",
            " activation_29 (Activation)     (None, 110, 128)     0           ['batch_normalization_22[0][0]'] \n",
            "                                                                                                  \n",
            " conv1d_23 (Conv1D)             (None, 110, 128)     49280       ['activation_29[0][0]']          \n",
            "                                                                                                  \n",
            " batch_normalization_23 (BatchN  (None, 110, 128)    512         ['conv1d_23[0][0]']              \n",
            " ormalization)                                                                                    \n",
            "                                                                                                  \n",
            " activation_30 (Activation)     (None, 110, 128)     0           ['batch_normalization_23[0][0]'] \n",
            "                                                                                                  \n",
            " conv1d_24 (Conv1D)             (None, 110, 128)     49280       ['activation_30[0][0]']          \n",
            "                                                                                                  \n",
            " batch_normalization_24 (BatchN  (None, 110, 128)    512         ['conv1d_24[0][0]']              \n",
            " ormalization)                                                                                    \n",
            "                                                                                                  \n",
            " activation_31 (Activation)     (None, 110, 128)     0           ['batch_normalization_24[0][0]'] \n",
            "                                                                                                  \n",
            " conv1d_25 (Conv1D)             (None, 110, 128)     49280       ['activation_31[0][0]']          \n",
            "                                                                                                  \n",
            " batch_normalization_25 (BatchN  (None, 110, 128)    512         ['conv1d_25[0][0]']              \n",
            " ormalization)                                                                                    \n",
            "                                                                                                  \n",
            " activation_32 (Activation)     (None, 110, 128)     0           ['batch_normalization_25[0][0]'] \n",
            "                                                                                                  \n",
            " add_8 (Add)                    (None, 110, 128)     0           ['activation_32[0][0]',          \n",
            "                                                                  'activation_30[0][0]']          \n",
            "                                                                                                  \n",
            " activation_33 (Activation)     (None, 110, 128)     0           ['add_8[0][0]']                  \n",
            "                                                                                                  \n",
            " conv1d_26 (Conv1D)             (None, 55, 256)      98560       ['activation_33[0][0]']          \n",
            "                                                                                                  \n",
            " batch_normalization_26 (BatchN  (None, 55, 256)     1024        ['conv1d_26[0][0]']              \n",
            " ormalization)                                                                                    \n",
            "                                                                                                  \n",
            " activation_34 (Activation)     (None, 55, 256)      0           ['batch_normalization_26[0][0]'] \n",
            "                                                                                                  \n",
            " conv1d_27 (Conv1D)             (None, 55, 256)      196864      ['activation_34[0][0]']          \n",
            "                                                                                                  \n",
            " batch_normalization_27 (BatchN  (None, 55, 256)     1024        ['conv1d_27[0][0]']              \n",
            " ormalization)                                                                                    \n",
            "                                                                                                  \n",
            " activation_35 (Activation)     (None, 55, 256)      0           ['batch_normalization_27[0][0]'] \n",
            "                                                                                                  \n",
            " conv1d_28 (Conv1D)             (None, 55, 256)      196864      ['activation_35[0][0]']          \n",
            "                                                                                                  \n",
            " batch_normalization_28 (BatchN  (None, 55, 256)     1024        ['conv1d_28[0][0]']              \n",
            " ormalization)                                                                                    \n",
            "                                                                                                  \n",
            " activation_36 (Activation)     (None, 55, 256)      0           ['batch_normalization_28[0][0]'] \n",
            "                                                                                                  \n",
            " conv1d_29 (Conv1D)             (None, 55, 256)      196864      ['activation_36[0][0]']          \n",
            "                                                                                                  \n",
            " batch_normalization_29 (BatchN  (None, 55, 256)     1024        ['conv1d_29[0][0]']              \n",
            " ormalization)                                                                                    \n",
            "                                                                                                  \n",
            " activation_37 (Activation)     (None, 55, 256)      0           ['batch_normalization_29[0][0]'] \n",
            "                                                                                                  \n",
            " add_9 (Add)                    (None, 55, 256)      0           ['activation_37[0][0]',          \n",
            "                                                                  'activation_35[0][0]']          \n",
            "                                                                                                  \n",
            " activation_38 (Activation)     (None, 55, 256)      0           ['add_9[0][0]']                  \n",
            "                                                                                                  \n",
            " conv1d_30 (Conv1D)             (None, 28, 512)      393728      ['activation_38[0][0]']          \n",
            "                                                                                                  \n",
            " batch_normalization_30 (BatchN  (None, 28, 512)     2048        ['conv1d_30[0][0]']              \n",
            " ormalization)                                                                                    \n",
            "                                                                                                  \n",
            " activation_39 (Activation)     (None, 28, 512)      0           ['batch_normalization_30[0][0]'] \n",
            "                                                                                                  \n",
            " conv1d_31 (Conv1D)             (None, 28, 512)      786944      ['activation_39[0][0]']          \n",
            "                                                                                                  \n",
            " batch_normalization_31 (BatchN  (None, 28, 512)     2048        ['conv1d_31[0][0]']              \n",
            " ormalization)                                                                                    \n",
            "                                                                                                  \n",
            " activation_40 (Activation)     (None, 28, 512)      0           ['batch_normalization_31[0][0]'] \n",
            "                                                                                                  \n",
            " conv1d_32 (Conv1D)             (None, 28, 512)      786944      ['activation_40[0][0]']          \n",
            "                                                                                                  \n",
            " batch_normalization_32 (BatchN  (None, 28, 512)     2048        ['conv1d_32[0][0]']              \n",
            " ormalization)                                                                                    \n",
            "                                                                                                  \n",
            " activation_41 (Activation)     (None, 28, 512)      0           ['batch_normalization_32[0][0]'] \n",
            "                                                                                                  \n",
            " conv1d_33 (Conv1D)             (None, 28, 512)      786944      ['activation_41[0][0]']          \n",
            "                                                                                                  \n",
            " batch_normalization_33 (BatchN  (None, 28, 512)     2048        ['conv1d_33[0][0]']              \n",
            " ormalization)                                                                                    \n",
            "                                                                                                  \n",
            " activation_42 (Activation)     (None, 28, 512)      0           ['batch_normalization_33[0][0]'] \n",
            "                                                                                                  \n",
            " add_10 (Add)                   (None, 28, 512)      0           ['activation_42[0][0]',          \n",
            "                                                                  'activation_40[0][0]']          \n",
            "                                                                                                  \n",
            " lstm_1 (LSTM)                  (None, 877, 1)       12          ['input_2[0][0]']                \n",
            "                                                                                                  \n",
            " activation_43 (Activation)     (None, 28, 512)      0           ['add_10[0][0]']                 \n",
            "                                                                                                  \n",
            " dense_4 (Dense)                (None, 877, 512)     1024        ['lstm_1[0][0]']                 \n",
            "                                                                                                  \n",
            " global_average_pooling1d_2 (Gl  (None, 512)         0           ['activation_43[0][0]']          \n",
            " obalAveragePooling1D)                                                                            \n",
            "                                                                                                  \n",
            " global_average_pooling1d_3 (Gl  (None, 512)         0           ['dense_4[0][0]']                \n",
            " obalAveragePooling1D)                                                                            \n",
            "                                                                                                  \n",
            " add_11 (Add)                   (None, 512)          0           ['global_average_pooling1d_2[0][0\n",
            "                                                                 ]',                              \n",
            "                                                                  'global_average_pooling1d_3[0][0\n",
            "                                                                 ]']                              \n",
            "                                                                                                  \n",
            " dense_5 (Dense)                (None, 128)          65664       ['add_11[0][0]']                 \n",
            "                                                                                                  \n",
            " dense_6 (Dense)                (None, 64)           8256        ['dense_5[0][0]']                \n",
            "                                                                                                  \n",
            " dense_7 (Dense)                (None, 206)          13390       ['dense_6[0][0]']                \n",
            "                                                                                                  \n",
            "==================================================================================================\n",
            "Total params: 3,770,138\n",
            "Trainable params: 3,762,330\n",
            "Non-trainable params: 7,808\n",
            "__________________________________________________________________________________________________\n"
          ]
        }
      ]
    },
    {
      "cell_type": "code",
      "source": [
        "import pandas as pd\n",
        "import numpy as np\n",
        "\n",
        "from sklearn.model_selection import train_test_split\n",
        "\n",
        "def split_data(X,y, size_test=0.1):\n",
        "    X_tr, X_test, y_tr, y_test = train_test_split(X, y, test_size=size_test, random_state=19)\n",
        "    return X_tr,X_test,y_tr,y_test \n",
        "\n",
        "def preprocess_data(X,y):\n",
        "    transformer = preprocess.Preprocessor() \n",
        "    transformer.fit(X)\n",
        "    X = transformer.transform(X)\n",
        "    y = y.drop([\"sig_id\"], axis = 1).values.astype(\"float32\") \n",
        "    return pd.DataFrame(X),pd.DataFrame(y)\n",
        "\n",
        "drugs = pd.read_csv(f'{dataset_path}/train_drug.csv')\n",
        "train_drug = pd.read_csv(f'{dataset_path}/train_drug.csv')\n",
        "X = pd.read_csv(f'{dataset_path}/train_features.csv')\n",
        "y = pd.read_csv(f'{dataset_path}/train_targets_scored.csv')\n",
        "\n",
        "X,y = preprocess_data(X,y)\n",
        "X_train, X_test, y_train, y_test = split_data(X,y)\n",
        "X_train, X_val, y_train, y_val = split_data(X_train,y_train,0.2)"
      ],
      "metadata": {
        "id": "m_KZ8Ov_u6MJ"
      },
      "execution_count": null,
      "outputs": []
    },
    {
      "cell_type": "code",
      "source": [
        "print(f'x_train: {X_train.shape}\\nx_val: {X_val.shape}')\n",
        "print(f'y_train: {y_train.shape}\\ny_val: {y_val.shape}')"
      ],
      "metadata": {
        "colab": {
          "base_uri": "https://localhost:8080/"
        },
        "id": "QUwE31sb0VRG",
        "outputId": "fdd8c804-1efe-4b81-e264-e99915087e1a"
      },
      "execution_count": null,
      "outputs": [
        {
          "output_type": "stream",
          "name": "stdout",
          "text": [
            "x_train: (17145, 877)\n",
            "x_val: (4287, 877)\n",
            "y_train: (17145, 206)\n",
            "y_val: (4287, 206)\n"
          ]
        }
      ]
    },
    {
      "cell_type": "code",
      "source": [
        "X_train, X_val = np.array(X_train), np.array(X_val)\n",
        "y_train, y_val = y_train.values.astype(\"float32\"), y_val.values.astype(\"float32\")"
      ],
      "metadata": {
        "id": "qIUMFxTvveXP"
      },
      "execution_count": null,
      "outputs": []
    },
    {
      "cell_type": "code",
      "source": [
        "history = Model.fit(X_train, y_train, validation_data=(X_val, y_val), batch_size=32, epochs=30, verbose=1)"
      ],
      "metadata": {
        "colab": {
          "base_uri": "https://localhost:8080/"
        },
        "id": "8V4wPxt2wxNk",
        "outputId": "6b5a3875-3c70-4e55-f87f-9018b6282464"
      },
      "execution_count": null,
      "outputs": [
        {
          "output_type": "stream",
          "name": "stdout",
          "text": [
            "Epoch 1/30\n",
            "536/536 [==============================] - 40s 52ms/step - loss: 0.0675 - accuracy: 0.0053 - val_loss: 0.0525 - val_accuracy: 9.3305e-04\n",
            "Epoch 2/30\n",
            "536/536 [==============================] - 27s 50ms/step - loss: 0.0528 - accuracy: 0.0028 - val_loss: 0.0525 - val_accuracy: 6.9979e-04\n",
            "Epoch 3/30\n",
            "536/536 [==============================] - 28s 51ms/step - loss: 0.0528 - accuracy: 0.0036 - val_loss: 0.0525 - val_accuracy: 9.3305e-04\n",
            "Epoch 4/30\n",
            "536/536 [==============================] - 28s 53ms/step - loss: 0.0528 - accuracy: 0.0038 - val_loss: 0.0525 - val_accuracy: 0.0023\n",
            "Epoch 5/30\n",
            "536/536 [==============================] - 32s 60ms/step - loss: 0.0528 - accuracy: 0.0045 - val_loss: 0.0525 - val_accuracy: 0.0044\n",
            "Epoch 6/30\n",
            "536/536 [==============================] - 29s 54ms/step - loss: 0.0528 - accuracy: 0.0032 - val_loss: 0.0525 - val_accuracy: 0.0056\n",
            "Epoch 7/30\n",
            "536/536 [==============================] - 27s 50ms/step - loss: 0.0528 - accuracy: 0.0045 - val_loss: 0.0525 - val_accuracy: 0.0103\n",
            "Epoch 8/30\n",
            "536/536 [==============================] - 27s 51ms/step - loss: 0.0528 - accuracy: 0.0049 - val_loss: 0.0525 - val_accuracy: 0.0058\n",
            "Epoch 9/30\n",
            "536/536 [==============================] - 28s 52ms/step - loss: 0.0528 - accuracy: 0.0034 - val_loss: 0.0525 - val_accuracy: 0.0042\n",
            "Epoch 10/30\n",
            "536/536 [==============================] - 27s 50ms/step - loss: 0.0528 - accuracy: 0.0029 - val_loss: 0.0525 - val_accuracy: 0.0049\n",
            "Epoch 11/30\n",
            "536/536 [==============================] - 27s 50ms/step - loss: 0.0528 - accuracy: 0.0026 - val_loss: 0.0525 - val_accuracy: 0.0047\n",
            "Epoch 12/30\n",
            "536/536 [==============================] - 32s 60ms/step - loss: 0.0528 - accuracy: 0.0026 - val_loss: 0.0525 - val_accuracy: 0.0030\n",
            "Epoch 13/30\n",
            "536/536 [==============================] - 31s 57ms/step - loss: 0.0528 - accuracy: 0.0025 - val_loss: 0.0525 - val_accuracy: 0.0035\n",
            "Epoch 14/30\n",
            "536/536 [==============================] - 28s 53ms/step - loss: 0.0528 - accuracy: 0.0024 - val_loss: 0.0525 - val_accuracy: 0.0037\n",
            "Epoch 15/30\n",
            "536/536 [==============================] - 27s 50ms/step - loss: 0.0528 - accuracy: 0.0023 - val_loss: 0.0525 - val_accuracy: 0.0033\n",
            "Epoch 16/30\n",
            "536/536 [==============================] - 28s 52ms/step - loss: 0.0528 - accuracy: 0.0020 - val_loss: 0.0525 - val_accuracy: 0.0035\n",
            "Epoch 17/30\n",
            "536/536 [==============================] - 27s 50ms/step - loss: 0.0528 - accuracy: 0.0022 - val_loss: 0.0525 - val_accuracy: 0.0037\n",
            "Epoch 18/30\n",
            "536/536 [==============================] - 27s 50ms/step - loss: 0.0528 - accuracy: 0.0021 - val_loss: 0.0525 - val_accuracy: 0.0033\n",
            "Epoch 19/30\n",
            "536/536 [==============================] - 27s 50ms/step - loss: 0.0528 - accuracy: 0.0023 - val_loss: 0.0525 - val_accuracy: 0.0033\n",
            "Epoch 20/30\n",
            "536/536 [==============================] - 28s 52ms/step - loss: 0.0528 - accuracy: 0.0026 - val_loss: 0.0525 - val_accuracy: 0.0033\n",
            "Epoch 21/30\n",
            "536/536 [==============================] - 27s 50ms/step - loss: 0.0528 - accuracy: 0.0025 - val_loss: 0.0525 - val_accuracy: 0.0035\n",
            "Epoch 22/30\n",
            "536/536 [==============================] - 27s 50ms/step - loss: 0.0528 - accuracy: 0.0024 - val_loss: 0.0525 - val_accuracy: 0.0037\n",
            "Epoch 23/30\n",
            "536/536 [==============================] - 27s 50ms/step - loss: 0.0528 - accuracy: 0.0027 - val_loss: 0.0525 - val_accuracy: 0.0033\n",
            "Epoch 24/30\n",
            "536/536 [==============================] - 27s 50ms/step - loss: 0.0528 - accuracy: 0.0022 - val_loss: 0.0525 - val_accuracy: 0.0033\n",
            "Epoch 25/30\n",
            "536/536 [==============================] - 28s 51ms/step - loss: 0.0528 - accuracy: 0.0024 - val_loss: 0.0525 - val_accuracy: 0.0033\n",
            "Epoch 26/30\n",
            "536/536 [==============================] - 27s 50ms/step - loss: 0.0528 - accuracy: 0.0026 - val_loss: 0.0525 - val_accuracy: 0.0037\n",
            "Epoch 27/30\n",
            "536/536 [==============================] - 27s 50ms/step - loss: 0.0528 - accuracy: 0.0023 - val_loss: 0.0525 - val_accuracy: 0.0033\n",
            "Epoch 28/30\n",
            "536/536 [==============================] - 27s 50ms/step - loss: 0.0528 - accuracy: 0.0026 - val_loss: 0.0525 - val_accuracy: 0.0035\n",
            "Epoch 29/30\n",
            "536/536 [==============================] - 27s 50ms/step - loss: 0.0528 - accuracy: 0.0020 - val_loss: 0.0525 - val_accuracy: 0.0030\n",
            "Epoch 30/30\n",
            "536/536 [==============================] - 27s 50ms/step - loss: 0.0528 - accuracy: 0.0026 - val_loss: 0.0525 - val_accuracy: 0.0037\n"
          ]
        }
      ]
    },
    {
      "cell_type": "code",
      "source": [
        "import matplotlib.pyplot as plt\n",
        "\n",
        "def plotErrors(train_error, val_error, name='by Resnet'):  \n",
        "    plt.plot(train_error, color='red', marker='o', label='Train Loss')\n",
        "    plt.plot(val_error, color='blue', marker='o', label='Val Loss')\n",
        "    plt.title(f' train v/s validation error {name}')\n",
        "    plt.xlabel('# epochs')\n",
        "    plt.ylabel('Error loss') \n",
        "    plt.legend(loc=\"upper right\")\n",
        "    plt.show()\n",
        "\n",
        "plotErrors(history.history['loss'],history.history['val_loss'])"
      ],
      "metadata": {
        "id": "WM3Y6Dq05PGm",
        "colab": {
          "base_uri": "https://localhost:8080/",
          "height": 295
        },
        "outputId": "224d200b-6896-454e-a692-5eef04accdcd"
      },
      "execution_count": null,
      "outputs": [
        {
          "output_type": "display_data",
          "data": {
            "text/plain": [
              "<Figure size 432x288 with 1 Axes>"
            ],
            "image/png": "[encoded data removed]"
          },
          "metadata": {
            "needs_background": "light"
          }
        }
      ]
    }
  ]
}